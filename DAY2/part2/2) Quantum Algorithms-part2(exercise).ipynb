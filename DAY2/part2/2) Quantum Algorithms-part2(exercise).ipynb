{
 "cells": [
  {
   "cell_type": "markdown",
   "id": "311f1f7d",
   "metadata": {
    "slideshow": {
     "slide_type": "slide"
    },
    "toc": true
   },
   "source": [
    "<h1>Table of Contents<span class=\"tocSkip\"></span></h1>\n",
    "<div class=\"toc\"><ul class=\"toc-item\"><li><span><a href=\"#0.-Preparation\" data-toc-modified-id=\"0.-Preparation-0\">0. Preparation</a></span><ul class=\"toc-item\"><li><span><a href=\"#0.1-Install-/-Load-Packages\" data-toc-modified-id=\"0.1-Install-/-Load-Packages-0.1\">0.1 Install / Load Packages</a></span></li><li><span><a href=\"#2.3-Swap-test\" data-toc-modified-id=\"2.3-Swap-test-0.2\">2.3 Swap test</a></span><ul class=\"toc-item\"><li><span><a href=\"#2.3.1-The-procedure-of-the-Swap-Test\" data-toc-modified-id=\"2.3.1-The-procedure-of-the-Swap-Test-0.2.1\">2.3.1 The procedure of the Swap Test</a></span></li><li><span><a href=\"#2.3.2-The-quantum-circuit-of-the-Swap-test\" data-toc-modified-id=\"2.3.2-The-quantum-circuit-of-the-Swap-test-0.2.2\">2.3.2 The quantum circuit of the Swap test</a></span></li><li><span><a href=\"#Exercise-3.1:-Swap-test\" data-toc-modified-id=\"Exercise-3.1:-Swap-test-0.2.3\">Exercise 3.1: Swap test</a></span></li><li><span><a href=\"#Exercise-3.2:-Swap-test\" data-toc-modified-id=\"Exercise-3.2:-Swap-test-0.2.4\">Exercise 3.2: Swap test</a></span></li><li><span><a href=\"#Exercise-3.3:-Swap-test\" data-toc-modified-id=\"Exercise-3.3:-Swap-test-0.2.5\">Exercise 3.3: Swap test</a></span></li></ul></li><li><span><a href=\"#2.4-Hadamard-test\" data-toc-modified-id=\"2.4-Hadamard-test-0.3\">2.4 Hadamard test</a></span><ul class=\"toc-item\"><li><span><a href=\"#2.4.1-The-procedure-of-the-Hadamard-test\" data-toc-modified-id=\"2.4.1-The-procedure-of-the-Hadamard-test-0.3.1\">2.4.1 The procedure of the Hadamard test</a></span></li><li><span><a href=\"#2.3.2-The-quantum-circuit-of-the-Hadamard-Test\" data-toc-modified-id=\"2.3.2-The-quantum-circuit-of-the-Hadamard-Test-0.3.2\">2.3.2 The quantum circuit of the Hadamard Test</a></span></li><li><span><a href=\"#Exercise-4.1:-Hadamard-test\" data-toc-modified-id=\"Exercise-4.1:-Hadamard-test-0.3.3\">Exercise 4.1: Hadamard test</a></span></li><li><span><a href=\"#Exercise-4.2:-Hadamard-test\" data-toc-modified-id=\"Exercise-4.2:-Hadamard-test-0.3.4\">Exercise 4.2: Hadamard test</a></span></li></ul></li><li><span><a href=\"#2.5-Deutsch-Jozsa-Algorithm\" data-toc-modified-id=\"2.5-Deutsch-Jozsa-Algorithm-0.4\">2.5 Deutsch-Jozsa Algorithm</a></span><ul class=\"toc-item\"><li><span><a href=\"#2.5.1-The-procedure-of-the-Deutsch-Jozsa-Algorithm\" data-toc-modified-id=\"2.5.1-The-procedure-of-the-Deutsch-Jozsa-Algorithm-0.4.1\">2.5.1 The procedure of the Deutsch-Jozsa Algorithm</a></span></li><li><span><a href=\"#2.5.2-The-quantum-circuit-of-the-Deutsch-Jozsa-Algorithm\" data-toc-modified-id=\"2.5.2-The-quantum-circuit-of-the-Deutsch-Jozsa-Algorithm-0.4.2\">2.5.2 The quantum circuit of the Deutsch-Jozsa Algorithm</a></span><ul class=\"toc-item\"><li><span><a href=\"#2.5.2.1-Import-code-functions-from-packages\" data-toc-modified-id=\"2.5.2.1-Import-code-functions-from-packages-0.4.2.1\">2.5.2.1 Import code functions from packages</a></span></li><li><span><a href=\"#2.5.2.2-Constant-Oracle\" data-toc-modified-id=\"2.5.2.2-Constant-Oracle-0.4.2.2\">2.5.2.2 Constant Oracle</a></span></li><li><span><a href=\"#2.5.2.3-Balanced-Oracle\" data-toc-modified-id=\"2.5.2.3-Balanced-Oracle-0.4.2.3\">2.5.2.3 Balanced Oracle</a></span></li><li><span><a href=\"#2.5.2.4-The-Full-Algorithm\" data-toc-modified-id=\"2.5.2.4-The-Full-Algorithm-0.4.2.4\">2.5.2.4 The Full Algorithm</a></span></li></ul></li><li><span><a href=\"#2.5.3-Generalized-circuit-code-of-Deutsch-Jozsa-Algorithm\" data-toc-modified-id=\"2.5.3-Generalized-circuit-code-of-Deutsch-Jozsa-Algorithm-0.4.3\">2.5.3 Generalized circuit code of Deutsch-Jozsa Algorithm</a></span></li><li><span><a href=\"#2.5.4-Experiment-with-Real-Devices\" data-toc-modified-id=\"2.5.4-Experiment-with-Real-Devices-0.4.4\">2.5.4 Experiment with Real Devices</a></span></li></ul></li></ul></li></ul></div>"
   ]
  },
  {
   "cell_type": "markdown",
   "id": "64e2800d",
   "metadata": {
    "slideshow": {
     "slide_type": "slide"
    }
   },
   "source": [
    "# 0. Preparation"
   ]
  },
  {
   "cell_type": "markdown",
   "id": "3de9133c",
   "metadata": {
    "slideshow": {
     "slide_type": "slide"
    }
   },
   "source": [
    "## 0.1 Install / Load Packages\n",
    "- We need to install or load packages before running the code below."
   ]
  },
  {
   "cell_type": "code",
   "execution_count": null,
   "id": "e878e9ee",
   "metadata": {
    "ExecuteTime": {
     "end_time": "2022-12-14T01:57:44.239906Z",
     "start_time": "2022-12-14T01:57:44.226901Z"
    },
    "slideshow": {
     "slide_type": "slide"
    }
   },
   "outputs": [],
   "source": [
    "# Install packages\n",
    "\n",
    "# !pip install numpy\n",
    "# !pip install qiskit\n",
    "# !pip install qiskit[visualization]\n",
    "# !pip install matplotlib"
   ]
  },
  {
   "cell_type": "code",
   "execution_count": null,
   "id": "2a8cb58f",
   "metadata": {
    "ExecuteTime": {
     "end_time": "2022-12-14T01:57:45.491937Z",
     "start_time": "2022-12-14T01:57:44.240907Z"
    }
   },
   "outputs": [],
   "source": [
    "# Load packages\n",
    "## General tools\n",
    "import numpy as np\n",
    "import matplotlib\n",
    "import matplotlib.pyplot as plt\n",
    "from math import pi\n",
    "\n",
    "## Qiskit Circuit Functions\n",
    "from qiskit import *\n",
    "from qiskit.quantum_info import *\n",
    "from qiskit.visualization import *"
   ]
  },
  {
   "cell_type": "code",
   "execution_count": null,
   "id": "201ba1ce",
   "metadata": {
    "ExecuteTime": {
     "end_time": "2022-12-14T01:57:45.506887Z",
     "start_time": "2022-12-14T01:57:45.492848Z"
    }
   },
   "outputs": [],
   "source": [
    "from qiskit.tools.monitor import backend_overview, backend_monitor, job_monitor\n",
    "from qiskit.tools.visualization import plot_gate_map, plot_error_map"
   ]
  },
  {
   "cell_type": "code",
   "execution_count": null,
   "id": "20fd7015",
   "metadata": {
    "ExecuteTime": {
     "end_time": "2022-12-14T01:57:53.455984Z",
     "start_time": "2022-12-14T01:57:45.507850Z"
    }
   },
   "outputs": [],
   "source": [
    "# IBMQ.save_account(TOKEN)\n",
    "# provider = IBMQ.load_account()\n",
    "provider = IBMQ.load_account() # Load account from disk"
   ]
  },
  {
   "cell_type": "code",
   "execution_count": null,
   "id": "db9b311d",
   "metadata": {
    "ExecuteTime": {
     "end_time": "2022-12-14T01:57:53.471015Z",
     "start_time": "2022-12-14T01:57:53.457039Z"
    }
   },
   "outputs": [],
   "source": [
    "# # Get the list of backends available\n",
    "# provider.backends()"
   ]
  },
  {
   "cell_type": "code",
   "execution_count": null,
   "id": "442f9bfc",
   "metadata": {
    "ExecuteTime": {
     "end_time": "2022-12-14T01:58:25.717417Z",
     "start_time": "2022-12-14T01:57:53.472016Z"
    }
   },
   "outputs": [],
   "source": [
    "# Retrieve IBM Quantum device information\n",
    "backend_overview()"
   ]
  },
  {
   "cell_type": "code",
   "execution_count": null,
   "id": "c7e47c72",
   "metadata": {},
   "outputs": [],
   "source": []
  },
  {
   "cell_type": "markdown",
   "id": "7bf4c05f",
   "metadata": {},
   "source": [
    "## 2.3 Swap test\n",
    " - The swap test is a procedure in quantum computation that is used to check how much two quantum states differ.\n",
    " - The swap test takes two input states $\\vert\\phi\\rangle$ and $\\vert\\psi\\rangle$ and outputs a probability with $Pr(\\vert0\\rangle)=\\frac{1}{2}+\\frac{1}{2}\\big\\vert\\langle\\psi\\vert\\phi\\rangle\\big\\vert^2$. This allows us to estimate the squared inner product between the two states, $\\big\\vert\\langle\\psi\\vert\\phi\\rangle\\big\\vert^2$.\n",
    " - The squared inner product of the two states roughly measures \"overlap\" between the two states, and can be used in linear-algebraic applications, including clustering quantum states.\n",
    " - When two qubits $\\phi$ and $\\psi$ are orthogonal, then $\\big\\vert\\langle\\psi\\vert\\phi\\rangle\\big\\vert^2=0$.  \n",
    " - Link: [Wikipedia - Swap test](https://en.wikipedia.org/wiki/Swap_test)"
   ]
  },
  {
   "attachments": {
    "swap_test_circuit.png": {
     "image/png": "[encoded data removed]"
    }
   },
   "cell_type": "markdown",
   "id": "b3b6d187",
   "metadata": {},
   "source": [
    "### 2.3.1 The procedure of the Swap Test\n",
    "\n",
    "![swap_test_circuit.png](attachment:swap_test_circuit.png)\n",
    "\n",
    "- **Step 1**: We initialize the quantum circuit with the qubit state of $|0, \\phi, \\psi\\rangle$, where $|0\\rangle$ is the measuring qubit, and both $|\\phi\\rangle$ and $|\\psi\\rangle$ are two $m$-qubit states.\n",
    "\n",
    "- **Step 2**: We apply the H-gate on the measuring qubit, followed by controlled-SWAP gate (CSWAP-gate) with controlling $|0\\rangle$ and targeting two qubits $|\\phi\\rangle$ and $|\\psi\\rangle$, and followed by the H-gate on the measuring qubit.\n",
    "\n",
    "- **Step 3**: Lastly, we measure the measuring qubit to get $Pr(|0\\rangle)$ or $Pr(|1\\rangle)$ to estimate $\\big\\vert\\langle\\psi\\vert\\phi\\rangle\\big\\vert^2$.    \n",
    "\n",
    "| Observable           | Measurement value                                                        |\n",
    "|:--------------------:|:------------------------------------------------------------------------:|\n",
    "| $Pr(\\vert0\\rangle)$  | $\\frac{1}{2}+\\frac{1}{2}\\big\\vert\\langle\\psi\\vert\\phi\\rangle\\big\\vert^2$ |\n",
    "| $Pr(\\vert1\\rangle)$  | $\\frac{1}{2}-\\frac{1}{2}\\big\\vert\\langle\\psi\\vert\\phi\\rangle\\big\\vert^2$ |\n",
    "| $\\langle Z \\rangle$  | $\\big\\vert\\langle\\psi\\vert\\phi\\rangle\\big\\vert^2$                        |"
   ]
  },
  {
   "cell_type": "markdown",
   "id": "b9adb64d",
   "metadata": {},
   "source": [
    "### 2.3.2 The quantum circuit of the Swap test\n",
    "- Let's creat a quantum circuit of the Swap test."
   ]
  },
  {
   "cell_type": "markdown",
   "id": "5d6e1238",
   "metadata": {},
   "source": [
    "- First, perform a Swap test between $|0\\rangle$ and $|0\\rangle$."
   ]
  },
  {
   "cell_type": "code",
   "execution_count": null,
   "id": "0fcbf3cd",
   "metadata": {
    "ExecuteTime": {
     "end_time": "2022-12-14T01:58:25.947141Z",
     "start_time": "2022-12-14T01:58:25.718420Z"
    }
   },
   "outputs": [],
   "source": [
    "## Create a Swap test quantum circuit shown above.\n",
    "\n",
    "# Create a quantum register\n",
    "num_mqubit = 1\n",
    "q = QuantumRegister(size = 1, name = 'q')\n",
    "phi = QuantumRegister(size = num_mqubit, name = 'phi')\n",
    "psi = QuantumRegister(size = num_mqubit, name = 'psi')\n",
    "\n",
    "# Create a classical register\n",
    "c = ClassicalRegister(1,'c')\n",
    "\n",
    "# Create the quantum circuit of the swap test\n",
    "qc_swap1 = QuantumCircuit(q, phi, psi, c)\n",
    "\n",
    "########## FILL YOUR CODE IN HERE ##########\n",
    "\n",
    "# qc_swap1.h(q)\n",
    "# qc_swap1.cswap(control_qubit = q, target_qubit1 = phi, target_qubit2 = psi)\n",
    "# qc_swap1.h(q)\n",
    "# qc_swap1.barrier()\n",
    "# qc_swap1.measure(qubit = q, cbit = c)\n",
    "\n",
    "########## ---------------------- ##########\n",
    "\n",
    "qc_swap1.draw(output = 'mpl')"
   ]
  },
  {
   "cell_type": "code",
   "execution_count": null,
   "id": "f5efbc7b",
   "metadata": {
    "ExecuteTime": {
     "end_time": "2022-12-14T01:58:26.162428Z",
     "start_time": "2022-12-14T01:58:25.947994Z"
    },
    "scrolled": false
   },
   "outputs": [],
   "source": [
    "## Let's see the result of the swap test.\n",
    "\n",
    "# Use Aer's qasm_simulators\n",
    "backend_q = Aer.get_backend('qasm_simulator')\n",
    "\n",
    "# Execute the quantum circuit on the qasm simulator\n",
    "num_shots = 4096\n",
    "job_swap1 = execute(qc_swap1, backend_q, shots=num_shots)\n",
    "\n",
    "# Get the counts number to estimate the squared inner product.\n",
    "counts_swap1 = job_swap1.result().get_counts()\n",
    "\n",
    "# print the result\n",
    "print(\"Counts: \", counts_swap1)\n",
    "print(\"Estimated the Squared inner product: \", str(2*(counts_swap1['0']/num_shots) - 1))\n",
    "print(\"Estimated <Z> expectation: \", (counts_swap1['0']/num_shots))\n",
    "plot_histogram(counts_swap1)"
   ]
  },
  {
   "cell_type": "markdown",
   "id": "f06e4f99",
   "metadata": {},
   "source": [
    "- $\\therefore \\big\\vert\\langle 0 \\vert 0 \\rangle\\big\\vert^2$ = $\\Big\\vert\\begin{bmatrix}1 & 0 \\end{bmatrix}$ $\\begin{bmatrix}1 \\\\ 0 \\end{bmatrix}\\Big\\vert^2 = \\Big\\vert (1\\times1) + (0\\times0) \\Big\\vert^2 = 1$ "
   ]
  },
  {
   "cell_type": "markdown",
   "id": "904851b7",
   "metadata": {},
   "source": [
    "- Second, perform a Swap test between $|0\\rangle$ and $|1\\rangle$."
   ]
  },
  {
   "cell_type": "code",
   "execution_count": null,
   "id": "f0cf07b6",
   "metadata": {
    "ExecuteTime": {
     "end_time": "2022-12-14T01:58:26.238487Z",
     "start_time": "2022-12-14T01:58:26.163452Z"
    }
   },
   "outputs": [],
   "source": [
    "## Create a Swap test quantum circuit.\n",
    "\n",
    "# Create a quantum register\n",
    "num_mqubit = 1\n",
    "q = QuantumRegister(size = 1, name = 'q')\n",
    "phi = QuantumRegister(size = num_mqubit, name = 'phi')\n",
    "psi = QuantumRegister(size = num_mqubit, name = 'psi')\n",
    "\n",
    "# Create a classical register\n",
    "c = ClassicalRegister(1,'c')\n",
    "\n",
    "# Create the quantum circuit of the swap test\n",
    "########## FILL YOUR CODE IN HERE ##########\n",
    "\n",
    "qc_swap2 = QuantumCircuit(q, phi, psi, c)\n",
    "qc_swap2.x(2)\n",
    "qc_swap2.barrier()\n",
    "qc_swap2.h(q)\n",
    "qc_swap2.cswap(control_qubit = q, target_qubit1 = phi, target_qubit2 = psi)\n",
    "qc_swap2.h(q)\n",
    "qc_swap2.barrier()\n",
    "qc_swap2.measure(qubit = q, cbit = c)\n",
    "\n",
    "########## ---------------------- ##########\n",
    "\n",
    "qc_swap2.draw(output = 'mpl')"
   ]
  },
  {
   "cell_type": "code",
   "execution_count": null,
   "id": "f8c51fe3",
   "metadata": {
    "ExecuteTime": {
     "end_time": "2022-12-14T01:58:26.300545Z",
     "start_time": "2022-12-14T01:58:26.239440Z"
    },
    "scrolled": false
   },
   "outputs": [],
   "source": [
    "## Let's see the result of the swap test\n",
    "\n",
    "# Use Aer's qasm_simulators\n",
    "backend_q = Aer.get_backend('qasm_simulator')\n",
    "\n",
    "# Execute the quantum circuit on the qasm simulator\n",
    "num_shots = 4096\n",
    "job_swap2 = execute(qc_swap2, backend_q, shots=num_shots)\n",
    "\n",
    "# Get the counts number to estimate the squared inner product.\n",
    "counts_swap2 = job_swap2.result().get_counts()\n",
    "\n",
    "# print the result\n",
    "print(\"Counts: \", counts_swap2)\n",
    "print(\"Estimated the squared inner product: \", str(2*(counts_swap2['0']/num_shots) - 1))\n",
    "print(\"Estimated <Z> expectation: \", (counts_swap2['0']/num_shots)-(counts_swap2['1']/num_shots))\n",
    "plot_histogram(counts_swap2)"
   ]
  },
  {
   "cell_type": "markdown",
   "id": "6476c6c2",
   "metadata": {},
   "source": [
    "- $\\therefore \\big\\vert\\langle 0 \\vert 1 \\rangle\\big\\vert^2$ = $\\Big\\vert\\begin{bmatrix}1 & 0 \\end{bmatrix}$ $\\begin{bmatrix}0 \\\\ 1 \\end{bmatrix}\\Big\\vert^2 = \\Big\\vert (1\\times0) + (0\\times1) \\Big\\vert^2 = 0$ "
   ]
  },
  {
   "cell_type": "markdown",
   "id": "b9d85dbe",
   "metadata": {},
   "source": [
    "### Exercise 3.1: Swap test\n",
    "\n",
    "- Perform the Swap test that compares two given states. First, build a quantum circuit, and execute the circuit using the QASM simulation.\n",
    "\n",
    "    1) $|\\phi\\rangle = \\frac{1}{\\sqrt{2}}{\\bigl(|0\\rangle+|1\\rangle\\bigl)}$ and $|\\psi\\rangle = \\alpha|0\\rangle+\\beta|1\\rangle$, such that $|\\alpha|^2 = 0.75$, and $|\\beta|^2 = 0.25$"
   ]
  },
  {
   "cell_type": "code",
   "execution_count": null,
   "id": "1fc7c3b2",
   "metadata": {
    "ExecuteTime": {
     "end_time": "2022-12-14T01:58:26.392433Z",
     "start_time": "2022-12-14T01:58:26.301093Z"
    },
    "scrolled": true
   },
   "outputs": [],
   "source": [
    "# Exercise 3.1) circuit\n",
    "def qc_swap_ex3_1():\n",
    "    # Create a quantum register with 3 qubits\n",
    "    num_m_qubit = 1\n",
    "    q = QuantumRegister(size = 1, name = 'q')\n",
    "    phi = QuantumRegister(size = num_m_qubit, name = 'phi')\n",
    "    psi = QuantumRegister(size = num_m_qubit, name = 'psi')\n",
    "    # Create a classical register with 3 bits\n",
    "    c = ClassicalRegister(1, 'c')\n",
    "    \n",
    "    # Create the quantum circuit with the given qubits/cbits\n",
    "    qc = QuantumCircuit(q, phi, psi, c) \n",
    "    \n",
    "    ########## FILL YOUR CODE IN HERE ##########    \n",
    "\n",
    "#     ## Initialization\n",
    "#     qc.h(phi[0]) # phi\n",
    "#     qc.ry(theta = pi/3, qubit = psi[0]) # psi\n",
    "#     qc.barrier()\n",
    "    \n",
    "#     ## Gate operation\n",
    "#     qc.h(0)\n",
    "#     qc.cswap(control_qubit = q, target_qubit1 = phi, target_qubit2 = psi)\n",
    "#     qc.h(0)\n",
    "#     qc.barrier()\n",
    "    \n",
    "#     ## Measurement\n",
    "#     qc.measure(q, c)\n",
    "    \n",
    "    ########## ---------------------- ##########\n",
    "    return(qc)\n",
    "\n",
    "# Draw the quantum circuit in a different style\n",
    "qc_swap_ex3_1().draw(output='mpl')"
   ]
  },
  {
   "cell_type": "code",
   "execution_count": null,
   "id": "ec3e016b",
   "metadata": {
    "ExecuteTime": {
     "end_time": "2022-12-14T01:58:26.453812Z",
     "start_time": "2022-12-14T01:58:26.393408Z"
    },
    "scrolled": false
   },
   "outputs": [],
   "source": [
    "# Use Aer's qasm_simulators\n",
    "backend_q = Aer.get_backend('qasm_simulator')\n",
    "\n",
    "# Execute the quantum circuit on the qasm simulator\n",
    "num_shots = 4096\n",
    "job_swap_ex3_1 = execute(qc_swap_ex3_1(), backend_q, shots=num_shots)\n",
    "\n",
    "# Get the counts number to estimate the squared inner product.\n",
    "counts_swap_ex3_1 = job_swap_ex3_1.result().get_counts()\n",
    "\n",
    "# print the result\n",
    "print(\"Counts: \", counts_swap_ex3_1)\n",
    "print(\"Estimated the squared inner product: \", str(2*(counts_swap_ex3_1['0']/num_shots) - 1))\n",
    "if '1' not in list(counts_swap_ex3_1.keys()):\n",
    "    print(\"Estimated <Z> expectation: \", counts_swap_ex3_1['0']/num_shots)\n",
    "elif '0' not in list(counts_swap_ex3_1.keys()):\n",
    "    print(\"Estimated <Z> expectation: \", counts_swap_ex3_1['1']/num_shots)\n",
    "else: print(\"Estimated <Z> expectation: \", (counts_swap_ex3_1['0']/num_shots - counts_swap_ex3_1['1']/num_shots))\n",
    "plot_histogram(counts_swap_ex3_1)"
   ]
  },
  {
   "cell_type": "markdown",
   "id": "136d9681",
   "metadata": {},
   "source": [
    "- $|\\phi\\rangle = \\frac{1}{\\sqrt{2}}{\\bigl(|0\\rangle+|1\\rangle\\bigl)}$ and $|\\psi\\rangle = \\alpha|0\\rangle+\\beta|1\\rangle$, such that $|\\alpha|^2 = 0.75$, and $|\\beta|^2 = 0.25$"
   ]
  },
  {
   "cell_type": "markdown",
   "id": "f98ffcda",
   "metadata": {},
   "source": [
    "- We know that $|\\phi\\rangle = \\frac{1}{\\sqrt{2}}{\\bigl(|0\\rangle+|1\\rangle\\bigl)} = \\begin{bmatrix}\\frac{1}{\\sqrt{2}} \\\\ \\frac{1}{\\sqrt{2}}\\end{bmatrix}$\n",
    "\n",
    "- Also, we know that if $|\\psi\\rangle = \\alpha|0\\rangle+\\beta|1\\rangle$, such that $|\\alpha|^2 = 0.75$, and $|\\beta|^2 = 0.25$, we have $|\\psi\\rangle = \\begin{bmatrix}\\alpha \\\\ \\beta \\end{bmatrix} = \\begin{bmatrix}\\sqrt{0.75} \\\\ \\sqrt{0.25} \\end{bmatrix}=\\begin{bmatrix}\\frac{\\sqrt{3}}{2} \\\\ \\frac{1}{2} \\end{bmatrix}$\n",
    "\n",
    "- $\\therefore \\big\\vert\\langle \\phi \\vert \\psi \\rangle\\big\\vert^2$ = $\\Big\\vert\\begin{bmatrix}\\frac{1}{\\sqrt{2}} & \\frac{1}{\\sqrt{2}}\\end{bmatrix}\\begin{bmatrix}\\frac{\\sqrt{3}}{2} \\\\ \\frac{1}{2} \\end{bmatrix}\\Big\\vert^2 = \\Big\\vert (\\frac{1}{\\sqrt{2}}\\times\\frac{\\sqrt{3}}{2}) + (\\frac{1}{\\sqrt{2}}\\times\\frac{1}{2}) \\Big\\vert^2 = \\Big(\\frac{\\sqrt{3}+1}{2\\sqrt{2}}\\Big)^2 \\approx 0.93301270189$ "
   ]
  },
  {
   "cell_type": "markdown",
   "id": "5ef82835",
   "metadata": {},
   "source": [
    "### Exercise 3.2: Swap test\n",
    "\n",
    "- Perform the Swap test that compares two given states. First, build a quantum circuit, and execute the circuit using the QASM simulation.\n",
    "\n",
    "    2) Two Bell states: $|\\phi\\rangle = \\frac{1}{\\sqrt{2}}{\\bigl(|00\\rangle+|11\\rangle\\bigl)}$ and $|\\psi\\rangle = \\frac{1}{\\sqrt{2}}{\\bigl(|01\\rangle+|10\\rangle\\bigl)}$"
   ]
  },
  {
   "cell_type": "code",
   "execution_count": null,
   "id": "6121ba8e",
   "metadata": {
    "ExecuteTime": {
     "end_time": "2022-12-14T01:58:26.637454Z",
     "start_time": "2022-12-14T01:58:26.454790Z"
    }
   },
   "outputs": [],
   "source": [
    "# Exercise 3.2)\n",
    "def qc_swap_ex3_2():\n",
    "    # Create a quantum register with 3 qubits\n",
    "    num_m_qubit = 2\n",
    "    q = QuantumRegister(size = 1, name = 'q')\n",
    "    phi = QuantumRegister(size = num_m_qubit, name = 'phi')\n",
    "    psi = QuantumRegister(size = num_m_qubit, name = 'psi')\n",
    "    # Create a classical register with 3 bits\n",
    "    c = ClassicalRegister(1, 'c')\n",
    "    \n",
    "    # Create the quantum circuit with the given qubits/cbits\n",
    "    qc = QuantumCircuit(q, phi, psi, c)\n",
    "    \n",
    "    ########## FILL YOUR CODE IN HERE ##########\n",
    "    \n",
    "#     ## Initialization\n",
    "#     qc.h(phi[0])\n",
    "#     qc.cx(control_qubit = phi[0], target_qubit = phi[1])\n",
    "#     qc.h(psi[0])\n",
    "#     qc.x(psi[1])\n",
    "#     qc.cx(control_qubit = psi[0], target_qubit = psi[1])\n",
    "#     qc.barrier()\n",
    "    \n",
    "#     ## Gate operation\n",
    "#     qc.h(0)\n",
    "#     for i in range(num_m_qubit):\n",
    "#         qc.cswap(control_qubit = q, target_qubit1 = phi[i], target_qubit2 = psi[i])\n",
    "#     qc.h(0)\n",
    "#     qc.barrier()\n",
    "    \n",
    "#     ## Measurement\n",
    "#     qc.measure(q, c)  \n",
    "\n",
    "    ########## ---------------------- ##########\n",
    "    return(qc)\n",
    "\n",
    "# Draw the quantum circuit in a different style\n",
    "qc_swap_ex3_2().draw(output='mpl')"
   ]
  },
  {
   "cell_type": "code",
   "execution_count": null,
   "id": "f531a3ff",
   "metadata": {
    "ExecuteTime": {
     "end_time": "2022-12-14T01:58:26.699426Z",
     "start_time": "2022-12-14T01:58:26.638430Z"
    },
    "scrolled": false
   },
   "outputs": [],
   "source": [
    "# Use Aer's qasm_simulators\n",
    "backend_q = Aer.get_backend('qasm_simulator')\n",
    "\n",
    "# Execute the quantum circuit on the qasm simulator\n",
    "num_shots = 4096\n",
    "job_swap_ex3_2 = execute(qc_swap_ex3_2(), backend_q, shots=num_shots)\n",
    "\n",
    "# Get the counts number to estimate the squared inner product.\n",
    "counts_swap_ex3_2 = job_swap_ex3_2.result().get_counts()\n",
    "\n",
    "# print the result\n",
    "print(\"Counts: \", counts_swap_ex3_2)\n",
    "print(\"Estimated the squared inner product: \", str(2*(counts_swap_ex3_2['0']/num_shots) - 1))\n",
    "if '1' not in list(counts_swap_ex3_2.keys()):\n",
    "    print(\"Estimated <Z> expectation: \", counts_swap_ex3_2['0']/num_shots)\n",
    "elif '0' not in list(counts_swap_ex3_2.keys()):\n",
    "    print(\"Estimated <Z> expectation: \", counts_swap_ex3_2['1']/num_shots)\n",
    "else: print(\"Estimated <Z> expectation: \", (counts_swap_ex3_2['0']/num_shots - counts_swap_ex3_2['1']/num_shots))\n",
    "plot_histogram(counts_swap_ex3_2)"
   ]
  },
  {
   "cell_type": "markdown",
   "id": "55b74491",
   "metadata": {},
   "source": [
    "- We know that $|\\phi\\rangle = \\frac{1}{\\sqrt{2}}{\\bigl(|00\\rangle+|11\\rangle\\bigl)} = \\frac{1}{\\sqrt{2}}\\begin{bmatrix}1 \\\\ 0 \\\\ 0 \\\\ 1 \\end{bmatrix}$ and $|\\psi\\rangle = \\frac{1}{\\sqrt{2}}{\\bigl(|01\\rangle+|10\\rangle\\bigl)} = \\frac{1}{\\sqrt{2}}\\begin{bmatrix}0 \\\\ 1 \\\\ 1 \\\\ 0 \\end{bmatrix}$"
   ]
  },
  {
   "cell_type": "markdown",
   "id": "ee641f65",
   "metadata": {},
   "source": [
    "- $\\therefore \\big\\vert\\langle \\phi \\vert \\psi \\rangle\\big\\vert^2$ = $\\Big\\vert\\frac{1}{\\sqrt{2}}\\begin{bmatrix}1 & 0 & 0 & 1 \\end{bmatrix}\\frac{1}{\\sqrt{2}}\\begin{bmatrix}0 \\\\ 1 \\\\ 1 \\\\ 0 \\end{bmatrix}\\Big\\vert^2 = \\Big\\vert \\frac{1}{2}\\Big((1\\times0)+(0\\times1)+(1\\times0)+(1\\times0)\\Big) \\Big\\vert^2 = 0$ "
   ]
  },
  {
   "cell_type": "markdown",
   "id": "432438fd",
   "metadata": {},
   "source": [
    "### Exercise 3.3: Swap test\n",
    "\n",
    "- Perform the Swap test that compares two given states. First, build a quantum circuit, and execute the circuit using the QASM simulation.\n",
    "\n",
    "    3) Two GHZ states:\n",
    "    - $|\\phi\\rangle = \\alpha|000\\rangle+\\beta|111\\rangle$, with $|\\alpha|^2 = 0.75$, and $|\\beta|^2 = 0.25$\n",
    "    - $|\\psi\\rangle = \\alpha|000\\rangle+\\beta|111\\rangle$, with $|\\alpha|^2 = 0.25$, and $|\\beta|^2 = 0.75$"
   ]
  },
  {
   "cell_type": "code",
   "execution_count": null,
   "id": "7c7344c6",
   "metadata": {
    "ExecuteTime": {
     "end_time": "2022-12-14T01:58:26.853938Z",
     "start_time": "2022-12-14T01:58:26.700390Z"
    }
   },
   "outputs": [],
   "source": [
    "# Exercise 3.3)\n",
    "def qc_swap_ex3_3():\n",
    "    # Create a quantum register with 3 qubits\n",
    "    num_m_qubit = 3\n",
    "    q = QuantumRegister(size = 1, name = 'q')\n",
    "    phi = QuantumRegister(size = num_m_qubit, name = 'phi')\n",
    "    psi = QuantumRegister(size = num_m_qubit, name = 'psi')\n",
    "    # Create a classical register with 3 bits\n",
    "    c = ClassicalRegister(1, 'c')\n",
    "    \n",
    "    # Create the quantum circuit with the given qubits/cbits\n",
    "    qc = QuantumCircuit(q, phi, psi, c)\n",
    "    \n",
    "    ########## FILL YOUR CODE IN HERE ##########\n",
    "    \n",
    "#     ## Initialization\n",
    "#     qc.ry(theta = pi/3, qubit = phi[0])\n",
    "#     qc.cx(control_qubit = phi[0], target_qubit = phi[1])\n",
    "#     qc.cx(control_qubit = phi[1], target_qubit = phi[2])\n",
    "    \n",
    "#     qc.ry(theta = 2*pi/3, qubit = psi[0])\n",
    "#     qc.cx(control_qubit = psi[0], target_qubit = psi[1])\n",
    "#     qc.cx(control_qubit = psi[1], target_qubit = psi[2])\n",
    "#     qc.barrier()\n",
    "    \n",
    "#     ## Gate operation\n",
    "#     qc.h(0)\n",
    "#     for i in range(num_m_qubit):\n",
    "#         qc.cswap(control_qubit = q, target_qubit1 = phi[i], target_qubit2 = psi[i])\n",
    "#     qc.h(0)\n",
    "#     qc.barrier()\n",
    "    \n",
    "#     ## Measurement\n",
    "#     qc.measure(q, c)\n",
    "\n",
    "    ########## ---------------------- ##########\n",
    "    \n",
    "    return(qc)\n",
    "\n",
    "# Draw the quantum circuit in a different style\n",
    "qc_swap_ex3_3().draw(output='mpl')"
   ]
  },
  {
   "cell_type": "code",
   "execution_count": null,
   "id": "0ceff7b4",
   "metadata": {
    "ExecuteTime": {
     "end_time": "2022-12-14T01:58:26.916113Z",
     "start_time": "2022-12-14T01:58:26.854936Z"
    },
    "scrolled": true
   },
   "outputs": [],
   "source": [
    "# Use Aer's qasm_simulators\n",
    "backend_q = Aer.get_backend('qasm_simulator')\n",
    "\n",
    "# Execute the quantum circuit on the qasm simulator\n",
    "num_shots = 4096\n",
    "job_swap_ex3_3 = execute(qc_swap_ex3_3(), backend_q, shots=num_shots)\n",
    "\n",
    "# Get the counts number to estimate the squared inner product.\n",
    "counts_swap_ex3_3 = job_swap_ex3_3.result().get_counts()\n",
    "\n",
    "# print the result\n",
    "print(\"Counts: \", counts_swap_ex3_3)\n",
    "print(\"Estimated the squared inner product: \", str(2*(counts_swap_ex3_3['0']/num_shots) - 1))\n",
    "if '1' not in list(counts_swap_ex3_3.keys()):\n",
    "    print(\"Estimated <Z> expectation: \", counts_swap_ex3_3['0']/num_shots)\n",
    "elif '0' not in list(counts_swap_ex3_3.keys()):\n",
    "    print(\"Estimated <Z> expectation: \", counts_swap_ex3_3['1']/num_shots)\n",
    "else: print(\"Estimated <Z> expectation: \", (counts_swap_ex3_3['0']/num_shots - counts_swap_ex3_3['1']/num_shots))\n",
    "plot_histogram(counts_swap_ex3_3)"
   ]
  },
  {
   "cell_type": "markdown",
   "id": "540c5c55",
   "metadata": {},
   "source": [
    "- We know that $|\\phi\\rangle = \\begin{bmatrix}\\frac{\\sqrt{3}}{2} \\\\ 0 \\\\ 0 \\\\ 0 \\\\ 0 \\\\ 0 \\\\ 0 \\\\ \\frac{1}{2} \\end{bmatrix}$ and $|\\psi\\rangle = \\begin{bmatrix}\\frac{1}{2} \\\\ 0 \\\\ 0 \\\\ 0 \\\\ 0 \\\\ 0 \\\\ 0 \\\\ \\frac{\\sqrt{3}}{2} \\end{bmatrix}$"
   ]
  },
  {
   "cell_type": "markdown",
   "id": "7b2eb6b6",
   "metadata": {},
   "source": [
    "- $\\therefore \\big\\vert\\langle \\phi \\vert \\psi \\rangle\\big\\vert^2$ = $\\Big\\vert\\begin{bmatrix}\\frac{\\sqrt{3}}{2} & 0 & 0 & 0 & 0 & 0 & 0 & \\frac{1}{2} \\end{bmatrix}\\begin{bmatrix}\\frac{1}{2} \\\\ 0 \\\\ 0 \\\\ 0 \\\\ 0 \\\\ 0 \\\\ 0 \\\\ \\frac{\\sqrt{3}}{2} \\end{bmatrix}\\Big\\vert^2 = \\Big\\vert (\\frac{\\sqrt{3}}{2}\\times\\frac{1}{2})+(\\frac{1}{2}\\times\\frac{\\sqrt{3}}{2})\\Big\\vert^2 = \\Big\\vert \\frac{\\sqrt{3}}{2}\\Big\\vert^2 = \\frac{3}{4} = 0.75$ "
   ]
  },
  {
   "cell_type": "code",
   "execution_count": null,
   "id": "745a5ae8",
   "metadata": {},
   "outputs": [],
   "source": []
  },
  {
   "cell_type": "markdown",
   "id": "56f87438",
   "metadata": {},
   "source": [
    "## 2.4 Hadamard test\n",
    " - Let $U$ be a unitary gate acting on the space of m-qubit state $|\\psi\\rangle$.\n",
    "     - $U^{\\dagger}U=UU^{\\dagger}=I$, and $\\langle\\psi|\\psi\\rangle=1$\n",
    " - The Hadamard test is a method used in quantum computation used to create a random variable whose expected value is the expected real part $Re(\\langle\\psi\\vert U \\vert\\psi\\rangle)$.\n",
    " - That is, the Hadamard test produces a random variable whose image is in $\\bigl\\{+1, -1\\bigl\\}$ and whose expected value is exactly $Re(\\langle\\psi\\vert U \\vert\\psi\\rangle)$. \n",
    " - With modification of the quantum circuit of the Hadamard test, you can also produce a random variable whose expected value is $Im(\\langle\\psi\\vert U \\vert\\psi\\rangle)$.\n",
    " - Link: [Wikipedia - Hadamard test](https://en.wikipedia.org/wiki/Hadamard_test_(quantum_computation))"
   ]
  },
  {
   "cell_type": "markdown",
   "id": "e7d7abc6",
   "metadata": {},
   "source": [
    "### 2.4.1 The procedure of the Hadamard test"
   ]
  },
  {
   "attachments": {
    "hadamard_test_circuit.png": {
     "image/png": "[encoded data removed]"
    }
   },
   "cell_type": "markdown",
   "id": "31cd3027",
   "metadata": {},
   "source": [
    "![hadamard_test_circuit.png](attachment:hadamard_test_circuit.png)\n",
    "\n",
    "- **Step 1**: We initialize the quantum circuit with the qubit state of $|0\\rangle|\\psi\\rangle$, where $|0\\rangle$ is the measuring qubit, and $|\\psi\\rangle$ is a $m$-qubit state.\n",
    "\n",
    "- **Step 2**: We apply the H-gate on the measuring qubit, followed by controlled-Unitary gate (C-U gate) with controlling $|0\\rangle$ and the target qubit $|\\psi\\rangle$, and followed by the H-gate on the measuring qubit.\n",
    "\n",
    "- **Step 3**: Lastly, we measure $\\langle Z \\rangle$ to get $Re(\\langle\\psi\\vert U \\vert\\psi\\rangle)$.\n",
    "    - $\\langle Z \\rangle = (1)\\times Pr(|0\\rangle)+(-1)\\times Pr(|1\\rangle)$\n",
    "\n",
    "- By the circuit diagram, we have our state vector from:\n",
    "    - $|\\Phi_0\\rangle = |0\\rangle \\otimes |\\psi\\rangle$ $\\mapsto$ $\\cdots$ $\\mapsto$ $|\\Phi_f\\rangle = \\frac{1}{2}{\\bigl( |0\\rangle(I+U)|\\psi\\rangle + |1\\rangle(I-U)|\\psi\\rangle \\bigl)}$\n",
    "    \n",
    "| Observable           | Measurement value                                                   |\n",
    "|:--------------------:|:-------------------------------------------------------------------:|\n",
    "| $Pr(\\vert0\\rangle)$  | $\\frac{1}{2}{\\big[1+Re(\\langle\\psi\\vert U \\vert\\psi\\rangle)\\big]}$  |\n",
    "| $Pr(\\vert1\\rangle)$  | $\\frac{1}{2}{\\big[1-Re(\\langle\\psi\\vert U \\vert\\psi\\rangle)\\big]}$  |\n",
    "| $\\langle Z \\rangle$  | $Re(\\langle\\psi\\vert U \\vert\\psi\\rangle)$                           |"
   ]
  },
  {
   "cell_type": "markdown",
   "id": "af49a093",
   "metadata": {},
   "source": [
    "### 2.3.2 The quantum circuit of the Hadamard Test\n",
    "- Let's creat a quantum circuit of the Hadamard test."
   ]
  },
  {
   "cell_type": "markdown",
   "id": "98773d39",
   "metadata": {},
   "source": [
    "- First, perform a Hadamard test with $|\\psi\\rangle = |0\\rangle$, and $U=X$"
   ]
  },
  {
   "cell_type": "code",
   "execution_count": null,
   "id": "d3d3aff7",
   "metadata": {
    "ExecuteTime": {
     "end_time": "2022-12-14T01:58:26.977600Z",
     "start_time": "2022-12-14T01:58:26.917094Z"
    }
   },
   "outputs": [],
   "source": [
    "## Create a Hadamard test quantum circuit shown above.\n",
    "\n",
    "# Create a quantum register\n",
    "num_mqubit = 1\n",
    "q = QuantumRegister(size = 1, name = 'q')\n",
    "psi = QuantumRegister(size = num_mqubit, name = 'psi')\n",
    "\n",
    "# Create a classical register\n",
    "c = ClassicalRegister(1,'c')\n",
    "\n",
    "# Create the quantum circuit of the Hadamard test\n",
    "qc_hada1 = QuantumCircuit(q, psi, c)\n",
    "\n",
    "########## FILL YOUR CODE IN HERE ##########\n",
    "\n",
    "# qc_hada1.h(q)\n",
    "# qc_hada1.cx(q, psi)\n",
    "# qc_hada1.h(q)\n",
    "# qc_hada1.barrier()\n",
    "# qc_hada1.measure(qubit = q, cbit = c)\n",
    "\n",
    "########## ---------------------- ##########\n",
    "\n",
    "qc_hada1.draw(output = 'mpl')"
   ]
  },
  {
   "cell_type": "code",
   "execution_count": null,
   "id": "2bbbb327",
   "metadata": {
    "ExecuteTime": {
     "end_time": "2022-12-14T01:58:27.038651Z",
     "start_time": "2022-12-14T01:58:26.978600Z"
    },
    "scrolled": false
   },
   "outputs": [],
   "source": [
    "## Let's see the result of the Hadamard test.\n",
    "\n",
    "# Use Aer's qasm_simulators\n",
    "backend_q = Aer.get_backend('qasm_simulator')\n",
    "\n",
    "# Execute the quantum circuit on the qasm simulator\n",
    "num_shots = 4096\n",
    "job_hada1 = execute(qc_hada1, backend_q, shots=num_shots)\n",
    "\n",
    "# Get the counts number to estimate the squared inner product.\n",
    "counts_hada1 = job_hada1.result().get_counts()\n",
    "\n",
    "# print the result\n",
    "print(\"Counts: \", counts_hada1)\n",
    "if '1' not in list(counts_hada1.keys()):\n",
    "    print(\"Estimated <Z> expectation: \", counts_hada1['0']/num_shots)\n",
    "elif '0' not in list(counts_hada1.keys()):\n",
    "    print(\"Estimated <Z> expectation: \", counts_hada1['1']/num_shots)\n",
    "else: print(\"Estimated <Z> expectation: \", (counts_hada1['0']/num_shots - counts_hada1['1']/num_shots))\n",
    "plot_histogram(counts_hada1)"
   ]
  },
  {
   "cell_type": "markdown",
   "id": "9b3681dd",
   "metadata": {},
   "source": [
    "- We have $\\langle\\psi\\vert U \\vert\\psi\\rangle = \\langle0|X|0\\rangle = \\begin{bmatrix}1 & 0 \\end{bmatrix}\\begin{bmatrix} 0 & 1 \\\\ 1 & 0 \\end{bmatrix}\\begin{bmatrix}1 \\\\ 0 \\end{bmatrix} = 0$\n",
    "\n",
    "- $\\Rightarrow$ $\\therefore Re\\big(\\langle\\psi\\vert U \\vert\\psi\\rangle\\big) = Re\\big(\\langle0|X|0\\rangle\\big) = 0$"
   ]
  },
  {
   "cell_type": "markdown",
   "id": "49df4a47",
   "metadata": {},
   "source": [
    "- Second, perform a Hadamard test with $|\\psi\\rangle = |+\\rangle=\\frac{1}{\\sqrt{2}}\\big(|0\\rangle+|1\\rangle\\big)$, and $U=X$"
   ]
  },
  {
   "cell_type": "code",
   "execution_count": null,
   "id": "5c017d1e",
   "metadata": {
    "ExecuteTime": {
     "end_time": "2022-12-14T01:58:27.114980Z",
     "start_time": "2022-12-14T01:58:27.039650Z"
    }
   },
   "outputs": [],
   "source": [
    "## Create a Hadamard test quantum circuit shown above.\n",
    "\n",
    "# Create a quantum register\n",
    "num_mqubit = 1\n",
    "q = QuantumRegister(size = 1, name = 'q')\n",
    "psi = QuantumRegister(size = num_mqubit, name = 'psi')\n",
    "\n",
    "# Create a classical register\n",
    "c = ClassicalRegister(1,'c')\n",
    "\n",
    "# Create the quantum circuit of the Hadamard test\n",
    "qc_hada2 = QuantumCircuit(q, psi, c)\n",
    "\n",
    "########## FILL YOUR CODE IN HERE ##########\n",
    "\n",
    "# qc_hada2.h(psi)\n",
    "# qc_hada2.barrier()\n",
    "# qc_hada2.h(q)\n",
    "# qc_hada2.cx(control_qubit = q, target_qubit = psi)\n",
    "# qc_hada2.h(q)\n",
    "# qc_hada2.barrier()\n",
    "# qc_hada2.measure(qubit = q, cbit = c)\n",
    "\n",
    "########## ---------------------- ##########\n",
    "\n",
    "qc_hada2.draw(output = 'mpl')"
   ]
  },
  {
   "cell_type": "code",
   "execution_count": null,
   "id": "4cb9937f",
   "metadata": {
    "ExecuteTime": {
     "end_time": "2022-12-14T01:58:27.175538Z",
     "start_time": "2022-12-14T01:58:27.115980Z"
    },
    "scrolled": false
   },
   "outputs": [],
   "source": [
    "## Let's see the result of the Hadamard test.\n",
    "\n",
    "# Use Aer's qasm_simulators\n",
    "backend_q = Aer.get_backend('qasm_simulator')\n",
    "\n",
    "# Execute the quantum circuit on the qasm simulator\n",
    "num_shots = 4096\n",
    "job_hada2 = execute(qc_hada2, backend_q, shots=num_shots)\n",
    "\n",
    "# Get the counts number to estimate the squared inner product.\n",
    "counts_hada2 = job_hada2.result().get_counts()\n",
    "\n",
    "# print the result\n",
    "print(\"Counts: \", counts_hada2)\n",
    "if '1' not in list(counts_hada2.keys()):\n",
    "    print(\"Estimated <Z> expectation: \", counts_hada2['0']/num_shots)\n",
    "elif '0' not in list(counts_hada2.keys()):\n",
    "    print(\"Estimated <Z> expectation: \", counts_hada2['1']/num_shots)\n",
    "else: print(\"Estimated <Z> expectation: \", (counts_hada2['0']/num_shots - counts_hada2['1']/num_shots))\n",
    "plot_histogram(counts_hada2)"
   ]
  },
  {
   "cell_type": "markdown",
   "id": "369a955f",
   "metadata": {},
   "source": [
    "- We have $\\langle\\psi\\vert U \\vert\\psi\\rangle = \\langle+|X|+\\rangle = \\begin{bmatrix}\\frac{1}{\\sqrt{2}} & \\frac{1}{\\sqrt{2}} \\end{bmatrix}\\begin{bmatrix} 0 & 1 \\\\ 1 & 0 \\end{bmatrix}\\begin{bmatrix}\\frac{1}{\\sqrt{2}} \\\\ \\frac{1}{\\sqrt{2}} \\end{bmatrix} = 1$\n",
    "\n",
    "- $\\Rightarrow$ $\\therefore Re\\big(\\langle\\psi\\vert U \\vert\\psi\\rangle\\big) = Re\\big(\\langle+|X|+\\rangle\\big) = 1$"
   ]
  },
  {
   "cell_type": "markdown",
   "id": "b40ab950",
   "metadata": {},
   "source": [
    "### Exercise 4.1: Hadamard test\n",
    "\n",
    "- Perform the Hadamard test with given quantum state $\\psi\\rangle$ and the unitary gate $U$. First, build a quantum circuit, and execute the circuit using the QASM simulation.\n",
    "\n",
    "    1) Perform a Hadamard test with $|\\psi\\rangle = |1\\rangle$, and $U=R_{z}(\\pi/2)$ to get the estimated $Re\\big(\\langle1|U|1\\rangle\\big)$.\n",
    " - Hint: Use the CRZ gate using `QuantumCircuit.crz(theta, control_qubit, target_qubit)`\n",
    " - Hint: $R_{z}(\\theta)= \\begin{bmatrix} e^{-\\theta i} & 0 \\\\ 0 & e^{+\\theta i}\\end{bmatrix}$, where $e^{\\pm i\\theta}=cos(\\theta)\\pm i\\cdot sin(\\theta)$"
   ]
  },
  {
   "cell_type": "code",
   "execution_count": null,
   "id": "7dd90af0",
   "metadata": {
    "ExecuteTime": {
     "end_time": "2022-12-14T01:58:27.251501Z",
     "start_time": "2022-12-14T01:58:27.176540Z"
    }
   },
   "outputs": [],
   "source": [
    "# Exercise 4.1)\n",
    "def qc_hada_ex4_1():\n",
    "    # Create a quantum register with 3 qubits\n",
    "    num_m_qubit = 1\n",
    "    q = QuantumRegister(size = 1, name = 'q')\n",
    "    psi = QuantumRegister(size = num_m_qubit, name = 'psi')\n",
    "    # Create a classical register with 3 bits\n",
    "    c = ClassicalRegister(1, 'c')\n",
    "    \n",
    "    # Create the quantum circuit with the given qubits/cbits\n",
    "    qc = QuantumCircuit(q, psi, c)\n",
    "    \n",
    "    ########## FILL YOUR CODE IN HERE ##########\n",
    "    \n",
    "#     ## Initialization\n",
    "#     qc.x(psi)\n",
    "#     qc.barrier()\n",
    "    \n",
    "#     ## Gate operation\n",
    "#     qc.h(0)\n",
    "#     qc.crz(theta = pi/2, control_qubit = q, target_qubit = psi)\n",
    "#     qc.h(0)\n",
    "#     qc.barrier()\n",
    "    \n",
    "#     ## Measurement\n",
    "#     qc.measure(q, c)\n",
    "\n",
    "    ########## ---------------------- ##########\n",
    "    \n",
    "    return(qc)\n",
    "\n",
    "# Draw the quantum circuit in a different style\n",
    "qc_hada_ex4_1().draw(output='mpl')"
   ]
  },
  {
   "cell_type": "code",
   "execution_count": null,
   "id": "d267261a",
   "metadata": {
    "ExecuteTime": {
     "end_time": "2022-12-14T01:58:27.311644Z",
     "start_time": "2022-12-14T01:58:27.252474Z"
    }
   },
   "outputs": [],
   "source": [
    "# Use Aer's qasm_simulators\n",
    "backend_q = Aer.get_backend('qasm_simulator')\n",
    "\n",
    "# Execute the quantum circuit on the qasm simulator\n",
    "num_shots = 4096\n",
    "job_hada_ex4_1 = execute(qc_hada_ex4_1(), backend_q, shots=num_shots)\n",
    "\n",
    "# Get the counts number to estimate the squared inner product.\n",
    "counts_hada_ex4_1 = job_hada_ex4_1.result().get_counts()\n",
    "\n",
    "# print the result\n",
    "print(\"Counts: \", counts_hada_ex4_1)\n",
    "if '1' not in list(counts_hada_ex4_1.keys()):\n",
    "    print(\"Estimated <Z> expectation: \", counts_hada_ex4_1['0']/num_shots)\n",
    "elif '0' not in list(counts_hada_ex4_1.keys()):\n",
    "    print(\"Estimated <Z> expectation: \", counts_hada_ex4_1['1']/num_shots)\n",
    "else: print(\"Estimated <Z> expectation: \", (counts_hada_ex4_1['0']/num_shots - counts_hada_ex4_1['1']/num_shots))\n",
    "plot_histogram(counts_hada_ex4_1)"
   ]
  },
  {
   "cell_type": "markdown",
   "id": "04ec4b82",
   "metadata": {},
   "source": [
    "- In Qiskit, since $R_{z}(\\pi/2)= \\frac{1}{\\sqrt{2}}\\begin{bmatrix} 1-i & 0 \\\\ 0 & 1+i \\end{bmatrix}$, we have $\\langle1|R_{z}(\\pi/2)|1\\rangle = \\frac{1}{\\sqrt{2}}(1+i)$\n",
    "- $\\Rightarrow$ $\\therefore Re\\big(\\langle1|R_{z}(\\pi/2)|1\\rangle\\big) = \\frac{1}{\\sqrt{2}} \\approx 0.7071$"
   ]
  },
  {
   "cell_type": "markdown",
   "id": "93703b9e",
   "metadata": {},
   "source": [
    "### Exercise 4.2: Hadamard test\n",
    "\n",
    " - Perform the Hadamard test with given quantum state $|\\psi\\rangle$ and the unitary gate $U$. First, build a quantum circuit, and execute the circuit using the QASM simulation.\n",
    "\n",
    "    2) Perform a Hadamard test with $|\\psi\\rangle = |0\\rangle$, and $U=R_{z}(\\pi/2)$ to get the estimated $Im\\big(\\langle0|U|0\\rangle\\big)$.\n",
    "    - Hint: Instead of applying first H-gate to get $|+\\rangle$ state, try to get $|-i\\rangle = \\frac{1}{\\sqrt{2}}\\big(|0\\rangle-i|1\\rangle\\big)$ state using $S^{\\dagger}$ gate, where $S^{\\dagger}=R_{z}(-\\pi/2)$.\n",
    "    - Hint: Use the S-dagger gate using `QuantumCircuit.sdg(qubit)`"
   ]
  },
  {
   "cell_type": "code",
   "execution_count": null,
   "id": "681f3abf",
   "metadata": {
    "ExecuteTime": {
     "end_time": "2022-12-14T01:58:27.389515Z",
     "start_time": "2022-12-14T01:58:27.312619Z"
    }
   },
   "outputs": [],
   "source": [
    "# Exercise 4.2)\n",
    "def qc_hada_ex4_2():\n",
    "    # Create a quantum register with 3 qubits\n",
    "    num_m_qubit = 1\n",
    "    q = QuantumRegister(size = 1, name = 'q')\n",
    "    psi = QuantumRegister(size = num_m_qubit, name = 'psi')\n",
    "    # Create a classical register with 3 bits\n",
    "    c = ClassicalRegister(1, 'c')\n",
    "    \n",
    "    # Create the quantum circuit with the given qubits/cbits\n",
    "    qc = QuantumCircuit(q, psi, c)\n",
    "    \n",
    "    ########## FILL YOUR CODE IN HERE ##########\n",
    "    \n",
    "#     ## Initialization\n",
    "#     qc.barrier()\n",
    "    \n",
    "#     ## Gate operation\n",
    "#     qc.h(0)\n",
    "#     qc.sdg(0)\n",
    "#     qc.crz(theta = pi/2, control_qubit = q, target_qubit = psi)\n",
    "#     qc.h(0)\n",
    "#     qc.barrier()\n",
    "    \n",
    "#     ## Measurement\n",
    "#     qc.measure(q, c)\n",
    "\n",
    "    ########## ---------------------- ##########\n",
    "    \n",
    "    return(qc)\n",
    "\n",
    "# Draw the quantum circuit in a different style\n",
    "qc_hada_ex4_2().draw(output='mpl')"
   ]
  },
  {
   "cell_type": "code",
   "execution_count": null,
   "id": "fcf52495",
   "metadata": {
    "ExecuteTime": {
     "end_time": "2022-12-14T01:58:27.451642Z",
     "start_time": "2022-12-14T01:58:27.390995Z"
    }
   },
   "outputs": [],
   "source": [
    "# Use Aer's qasm_simulators\n",
    "backend_q = Aer.get_backend('qasm_simulator')\n",
    "\n",
    "# Execute the quantum circuit on the qasm simulator\n",
    "num_shots = 4096\n",
    "job_hada_ex4_2 = execute(qc_hada_ex4_2(), backend_q, shots=num_shots)\n",
    "\n",
    "# Get the counts number to estimate the squared inner product.\n",
    "counts_hada_ex4_2 = job_hada_ex4_2.result().get_counts()\n",
    "\n",
    "# print the result\n",
    "print(\"Counts: \", counts_hada_ex4_2)\n",
    "if '1' not in list(counts_hada_ex4_2.keys()):\n",
    "    print(\"Estimated <Z> expectation: \", counts_hada_ex4_2['0']/num_shots)\n",
    "elif '0' not in list(counts_hada_ex4_2.keys()):\n",
    "    print(\"Estimated <Z> expectation: \", counts_hada_ex4_2['1']/num_shots)\n",
    "else: print(\"Estimated <Z> expectation: \", (counts_hada_ex4_2['0']/num_shots - counts_hada_ex4_2['1']/num_shots))\n",
    "plot_histogram(counts_hada_ex4_2)"
   ]
  },
  {
   "cell_type": "markdown",
   "id": "8d00ad32",
   "metadata": {},
   "source": [
    "- In Qiskit, since $R_{z}(\\pi/2)= \\frac{1}{\\sqrt{2}}\\begin{bmatrix} 1-i & 0 \\\\ 0 & 1+i \\end{bmatrix}$, we have $\\langle0|R_{z}(\\pi/2)|0\\rangle = \\frac{1}{\\sqrt{2}}(1-i)$ \n",
    "- $\\Rightarrow$ $\\therefore Im\\big(\\langle0|R_{z}(\\pi/2)|0\\rangle\\big) = -\\frac{1}{\\sqrt{2}} \\approx -0.7071$"
   ]
  },
  {
   "cell_type": "code",
   "execution_count": null,
   "id": "f0c2087e",
   "metadata": {},
   "outputs": [],
   "source": []
  },
  {
   "cell_type": "markdown",
   "id": "7a310055",
   "metadata": {},
   "source": [
    "## 2.5 Deutsch-Jozsa Algorithm\n",
    " - The Deutsch-Jorza algorithm is a deterministic quantum algorithm proposed by David Deutsch and Richard Jozsa in 1992.\n",
    " - It is one of the first example of a quantum algorithm that is exponentially faster than any possible deterministic classical algorithm.\n",
    " \n",
    " - Link: [Wikipedia - Deutsch–Jozsa algorithm](https://en.wikipedia.org/wiki/Deutsch%E2%80%93Jozsa_algorithm)"
   ]
  },
  {
   "cell_type": "markdown",
   "id": "5e749203",
   "metadata": {},
   "source": [
    "### 2.5.1 The procedure of the Deutsch-Jozsa Algorithm"
   ]
  },
  {
   "cell_type": "markdown",
   "id": "e18a091d",
   "metadata": {},
   "source": [
    "- Deutsch-Jozsa Problem: We are given a hidden Boolean function $f$, which takes as input a string of bits, and returns either $0$ or $1$.\n",
    "    - That is: $f(\\{x_0, x_1, x_2, ... \\})= 0$ or $1$, where $x_n$ is $0$ or $1$.\n",
    "- The property of the given Boolean function $f$ is that it is guaranteed to either be balanced or constant. A constant function returns all $0$'s or all $1$'s for any input, while a balanced function returns $0$'s for exactly half of all inputs and $1$'s for the other half. Our task is to determine whether the given function is balanced or constant.\n",
    "- Using a quantum computer, we can solve this probelm with 100% confidence after only one call to the function $f(x)$, provided we have the function $f$ implemented as a quantum oracle, which maps the state $\\vert x\\rangle\\vert y\\rangle$ to $\\vert x\\rangle\\vert y \\oplus f(x)\\rangle$, where $\\oplus$ is addition modulo $2$.\n",
    "- Below is the generic circuit for the Deutsch-Jozsa algorithm."
   ]
  },
  {
   "attachments": {
    "deutsch_jozsa_circuit.png": {
     "image/png": "[encoded data removed]"
    }
   },
   "cell_type": "markdown",
   "id": "f379dc45",
   "metadata": {},
   "source": [
    "![deutsch_jozsa_circuit.png](attachment:deutsch_jozsa_circuit.png)\n",
    "\n",
    "- Note that the Deutsch-Jozsa problem is an $n$-bit extension of the single bit Deutsch problem.\n",
    "\n",
    "\n",
    "- **Step 1**: Prepare two sets of quantum registers. The first is an $n$-qubit register initialized to $\\vert 0\\rangle$, and the second is a one-qubit register initialized to $\\vert 1\\rangle$.\n",
    "    - $\\vert \\psi_0 \\rangle = \\vert 0\\rangle^{\\otimes{n}}\\vert 1\\rangle$\n",
    "\n",
    "- **Step 2**: We apply the H-gate to each qubits:\n",
    "    - $\\vert \\psi_1 \\rangle = \\frac{1}{\\sqrt{2^{n+1}}}\\sum_{x=0}^{2^{n}-1} \\vert x\\rangle(\\vert 0\\rangle-\\vert 1\\rangle)$\n",
    "    \n",
    "- **Step 3**: We apply the quantum oracle $\\vert x\\rangle\\vert y\\rangle$ to $\\vert x\\rangle\\vert y \\oplus f(x)\\rangle$:\n",
    "    - $\\vert \\psi_2 \\rangle = \\frac{1}{\\sqrt{2^{n+1}}}\\sum_{x=0}^{2^{n}-1} \\vert x\\rangle(\\vert f(x)\\rangle-\\vert 1 \\oplus f(x)\\rangle)$\n",
    "    - $\\vert \\psi_2 \\rangle = \\frac{1}{\\sqrt{2^{n+1}}}\\sum_{x=0}^{2^{n}-1} (-1)^{f(x)}\\vert x\\rangle(\\vert 0\\rangle-\\vert 1\\rangle)$ since for each $x$, $f(x)$ is either $0$ or $1$.\n",
    "    \n",
    "- **Step 4**: At this point the second single qubit register may be ignored. Apply a Hadamard gate to each qubit in the first register:\n",
    "    - $\\vert \\psi_3 \\rangle = \\frac{1}{2^{n+1}}\\sum_{x=0}^{2^{n}-1} (-1)^{f(x)} \\bigl[ \\sum_{y=0}^{2^{n}-1} (-1)^{x \\cdot y}\\vert y \\rangle \\bigr]$\n",
    "    - $\\vert \\psi_3 \\rangle = \\frac{1}{2^{n+1}}\\sum_{x=0}^{2^{n}-1} \\bigl[ \\sum_{i=0}^{2^{n}-1} (-1)^{f(x)}(-1)^{x \\cdot y} \\bigr] \\vert y \\rangle$ where $x \\cdot y = x_{0}y_{0}\\oplus x_{1}y_{1}\\oplus \\cdots x_{n-1}y_{n-1}\\oplus$ is the sum of the bitwise product.\n",
    "    \n",
    "- **Step 5**: Measure the first quantum register. \n",
    "    - Notice that the probability of measuring $\\vert 0\\rangle^{\\otimes{n}} = \\big| \\frac{1}{2^{n+1}}\\sum_{x=0}^{2^{n}-1} (-1)^{f(x)} \\big|^2$, which evaluates to $Pr(\\vert 0\\rangle^{\\otimes{n}})=1$ if $f(x)$ is constant and $Pr(\\vert 0\\rangle^{\\otimes{n}})=0$ if $f(x)$ is balanced."
   ]
  },
  {
   "cell_type": "markdown",
   "id": "b3ec2bec",
   "metadata": {},
   "source": [
    "### 2.5.2 The quantum circuit of the Deutsch-Jozsa Algorithm\n",
    "- Let's build the Deutsch-Jozsa algorithm for the example of a three-bit function, with both constant and balanced oracles."
   ]
  },
  {
   "attachments": {
    "deutsch_jozsa_balanced1.png": {
     "image/png": "[encoded data removed]"
    }
   },
   "cell_type": "markdown",
   "id": "c17e2e89",
   "metadata": {},
   "source": [
    "- For a constant function, it is simple:\n",
    "    1. if f(x) = 0, then apply the $I$ gate to the qubit in register 2.  \n",
    "    2. if f(x) = 1, then apply the $X$ gate to the qubit in register 2.\n",
    "\n",
    "\n",
    "- For a balanced function, there are many different circuits we can create. One of the ways we can guarantee our circuit is balanced is by performing a CNOT for each qubit in register 1, with the qubit in register 2 as the target. For example:\n",
    "\n",
    "![deutsch_jozsa_balanced1.png](attachment:deutsch_jozsa_balanced1.png)\n",
    "\n",
    "In the image above, the top three qubits form the input register, and the bottom qubit is the output register. We can see which input states give which output in the table below:\n",
    "\n",
    "| Input states that output 0 | Input States that output 1 |\n",
    "|:--------------------------:|:--------------------------:|\n",
    "|             000            |             001            |\n",
    "|             011            |             100            |\n",
    "|             101            |             010            |\n",
    "|             110            |             111            |"
   ]
  },
  {
   "attachments": {
    "deutsch_jozsa_balanced2.png": {
     "image/png": "[encoded data removed]"
    }
   },
   "cell_type": "markdown",
   "id": "09c440d0",
   "metadata": {},
   "source": [
    "- We can change the results while keeping them balanced by wrapping selected controls in X-gates. For example, see the circuit and its results table below:\n",
    "\n",
    "![deutsch_jozsa_balanced2.png](attachment:deutsch_jozsa_balanced2.png)\n",
    "\n",
    "| Input states that output 0 | Input states that output 1 |\n",
    "|:--------------------------:|:--------------------------:|\n",
    "|             001            |             000            |\n",
    "|             010            |             011            |\n",
    "|             100            |             101            |\n",
    "|             111            |             110            |"
   ]
  },
  {
   "cell_type": "markdown",
   "id": "3740fa7a",
   "metadata": {},
   "source": [
    "#### 2.5.2.1 Import code functions from packages"
   ]
  },
  {
   "cell_type": "code",
   "execution_count": null,
   "id": "1f340945",
   "metadata": {
    "ExecuteTime": {
     "end_time": "2022-12-14T01:58:27.466547Z",
     "start_time": "2022-12-14T01:58:27.453616Z"
    }
   },
   "outputs": [],
   "source": [
    "# initialization\n",
    "import numpy as np\n",
    "\n",
    "# importing Qiskit\n",
    "from qiskit import IBMQ, Aer\n",
    "from qiskit.providers.ibmq import least_busy\n",
    "from qiskit import QuantumCircuit, assemble, transpile\n",
    "\n",
    "# import basic plot tools\n",
    "from qiskit.visualization import plot_histogram"
   ]
  },
  {
   "cell_type": "markdown",
   "id": "3ed00274",
   "metadata": {},
   "source": [
    "#### 2.5.2.2 Constant Oracle"
   ]
  },
  {
   "cell_type": "code",
   "execution_count": null,
   "id": "6ae1a2b7",
   "metadata": {
    "ExecuteTime": {
     "end_time": "2022-12-14T01:58:27.528991Z",
     "start_time": "2022-12-14T01:58:27.467545Z"
    }
   },
   "outputs": [],
   "source": [
    "# set the length of the n-bit input string. \n",
    "num_qubit = 3\n",
    "\n",
    "# Create a quantum register\n",
    "q = QuantumRegister(size = num_qubit , name = 'q')\n",
    "q_extra = QuantumRegister(size = 1, name = 'q_extra')\n",
    "\n",
    "# Create the constant oracle\n",
    "const_oracle = QuantumCircuit(q, q_extra)\n",
    "\n",
    "# Randomly decide whether the function outputs all 0's or all 1's.\n",
    "output = np.random.randint(2)\n",
    "if output == 1:\n",
    "    const_oracle.x(num_qubit)\n",
    "\n",
    "# Draw the quantum circuit \n",
    "const_oracle.draw(output = 'mpl')"
   ]
  },
  {
   "cell_type": "markdown",
   "id": "6ecee0b5",
   "metadata": {},
   "source": [
    "#### 2.5.2.3 Balanced Oracle"
   ]
  },
  {
   "cell_type": "code",
   "execution_count": null,
   "id": "3c323a65",
   "metadata": {
    "ExecuteTime": {
     "end_time": "2022-12-14T01:58:27.605392Z",
     "start_time": "2022-12-14T01:58:27.534510Z"
    }
   },
   "outputs": [],
   "source": [
    "# set the length of the n-bit input string. \n",
    "num_qubit = 3\n",
    "\n",
    "# Create a quantum register\n",
    "q = QuantumRegister(size = num_qubit , name = 'q')\n",
    "q_extra = QuantumRegister(size = 1, name = 'q_extra')\n",
    "\n",
    "# Create the balanced oracle\n",
    "balanced_oracle = QuantumCircuit(q, q_extra)\n",
    "b_str = \"011\"\n",
    "\n",
    "# Place X-gates by the given bit-string\n",
    "for qubit in range(len(b_str)):\n",
    "    if b_str[qubit] == '1':\n",
    "        balanced_oracle.x(qubit)\n",
    "balanced_oracle.barrier()\n",
    "\n",
    "# Draw the quantum circuit \n",
    "balanced_oracle.draw(output = 'mpl')"
   ]
  },
  {
   "cell_type": "code",
   "execution_count": null,
   "id": "d6c80809",
   "metadata": {
    "ExecuteTime": {
     "end_time": "2022-12-14T01:58:27.773506Z",
     "start_time": "2022-12-14T01:58:27.606370Z"
    }
   },
   "outputs": [],
   "source": [
    "# set the length of the n-bit input string. \n",
    "num_qubit = 3\n",
    "\n",
    "# Create a quantum register\n",
    "q = QuantumRegister(size = num_qubit , name = 'q')\n",
    "q_extra = QuantumRegister(size = 1, name = 'q_extra')\n",
    "\n",
    "# Create the balanced oracle\n",
    "balanced_oracle = QuantumCircuit(q, q_extra)\n",
    "b_str = \"011\"\n",
    "\n",
    "# Place X-gates by the given bit-string\n",
    "for qubit in range(len(b_str)):\n",
    "    if b_str[qubit] == '1':\n",
    "        balanced_oracle.x(qubit)\n",
    "balanced_oracle.barrier()\n",
    "\n",
    "########## FILL YOUR CODE IN HERE ##########\n",
    "\n",
    "# # Controlled-NOT gates\n",
    "# for qubit in range(num_qubit):\n",
    "#     balanced_oracle.cx(qubit, num_qubit)\n",
    "\n",
    "########## ---------------------- ##########\n",
    "\n",
    "balanced_oracle.barrier()\n",
    "\n",
    "# Draw the quantum circuit \n",
    "balanced_oracle.draw(output = 'mpl')"
   ]
  },
  {
   "cell_type": "code",
   "execution_count": null,
   "id": "853d278e",
   "metadata": {
    "ExecuteTime": {
     "end_time": "2022-12-14T01:58:27.865299Z",
     "start_time": "2022-12-14T01:58:27.774507Z"
    }
   },
   "outputs": [],
   "source": [
    "# set the length of the n-bit input string. \n",
    "num_qubit = 3\n",
    "\n",
    "# Create a quantum register\n",
    "q = QuantumRegister(size = num_qubit , name = 'q')\n",
    "q_extra = QuantumRegister(size = 1, name = 'q_extra')\n",
    "\n",
    "# Create the balanced oracle\n",
    "balanced_oracle = QuantumCircuit(q, q_extra)\n",
    "b_str = \"011\"\n",
    "\n",
    "# Place X-gates by the given bit-string\n",
    "for qubit in range(len(b_str)):\n",
    "    if b_str[qubit] == '1':\n",
    "        balanced_oracle.x(qubit)\n",
    "balanced_oracle.barrier()\n",
    "\n",
    "# Controlled-NOT gates\n",
    "for qubit in range(num_qubit):\n",
    "    balanced_oracle.cx(qubit, num_qubit)\n",
    "balanced_oracle.barrier()\n",
    "\n",
    "# Place X-gates\n",
    "for qubit in range(len(b_str)):\n",
    "    if b_str[qubit] == '1':\n",
    "        balanced_oracle.x(qubit)\n",
    "balanced_oracle.barrier()\n",
    "\n",
    "# Draw the quantum circuit \n",
    "balanced_oracle.draw(output = 'mpl')"
   ]
  },
  {
   "cell_type": "markdown",
   "id": "f9bb99d3",
   "metadata": {},
   "source": [
    "#### 2.5.2.4 The Full Algorithm "
   ]
  },
  {
   "cell_type": "markdown",
   "id": "74fa2115",
   "metadata": {},
   "source": [
    "- The Full Algorithm: Constant case"
   ]
  },
  {
   "cell_type": "code",
   "execution_count": null,
   "id": "e9c31194",
   "metadata": {
    "ExecuteTime": {
     "end_time": "2022-12-14T01:58:27.971778Z",
     "start_time": "2022-12-14T01:58:27.866299Z"
    }
   },
   "outputs": [],
   "source": [
    "# set the length of the n-bit input string. \n",
    "num_qubit = 3\n",
    "\n",
    "# Create a quantum register\n",
    "q = QuantumRegister(size = num_qubit , name = 'q')\n",
    "q_extra = QuantumRegister(size = 1, name = 'q_extra')\n",
    "# Create a classical register\n",
    "c = ClassicalRegister(num_qubit,'c')\n",
    "\n",
    "# Create the quantum circuit of the  Deutsch-Jozsa Algorithm\n",
    "dj_circuit = QuantumCircuit(q, q_extra, c)\n",
    "\n",
    "########## FILL YOUR CODE IN HERE ##########\n",
    "\n",
    "# # Apply H-gates\n",
    "# for qubit in range(num_qubit):\n",
    "#     dj_circuit.h(qubit)\n",
    "\n",
    "# # Put extra qubit in state |->\n",
    "# dj_circuit.x(num_qubit)\n",
    "# dj_circuit.h(num_qubit)\n",
    "# dj_circuit.barrier()\n",
    "\n",
    "# # Add oracle - constant\n",
    "# dj_circuit.compose(const_oracle, inplace=True)\n",
    "# dj_circuit.barrier()\n",
    "\n",
    "# # Repeat H-gates\n",
    "# for qubit in range(num_qubit):\n",
    "#     dj_circuit.h(qubit)\n",
    "# dj_circuit.barrier()\n",
    "\n",
    "# # Measure\n",
    "# dj_circuit.measure(q, c)\n",
    "\n",
    "########## ---------------------- ##########\n",
    "\n",
    "# Display circuit\n",
    "dj_circuit.draw(output = 'mpl')"
   ]
  },
  {
   "cell_type": "code",
   "execution_count": null,
   "id": "11953383",
   "metadata": {
    "ExecuteTime": {
     "end_time": "2022-12-14T01:58:28.017873Z",
     "start_time": "2022-12-14T01:58:27.972758Z"
    },
    "scrolled": false
   },
   "outputs": [],
   "source": [
    "# use local simulator\n",
    "aer_sim = Aer.get_backend('aer_simulator')\n",
    "qobj = assemble(dj_circuit, aer_sim)\n",
    "results = aer_sim.run(qobj).result()\n",
    "answer = results.get_counts()\n",
    "\n",
    "plot_histogram(answer)"
   ]
  },
  {
   "cell_type": "markdown",
   "id": "0903ab4d",
   "metadata": {},
   "source": [
    "- Remember that $Pr(\\vert 0\\rangle^{\\otimes{n}})=1$ if $f(x)$ is constant and $Pr(\\vert 0\\rangle^{\\otimes{n}})=0$ if $f(x)$ is balanced.\n",
    "- We can see from the results above that we have a 100% chance of measuring $000$. This correctly predicts the function $f(x)$ is constant."
   ]
  },
  {
   "cell_type": "code",
   "execution_count": null,
   "id": "2d947cae",
   "metadata": {},
   "outputs": [],
   "source": []
  },
  {
   "cell_type": "markdown",
   "id": "bc09f044",
   "metadata": {},
   "source": [
    "- The Full Algorithm: Balanced case"
   ]
  },
  {
   "cell_type": "code",
   "execution_count": null,
   "id": "d48bc56b",
   "metadata": {
    "ExecuteTime": {
     "end_time": "2022-12-14T01:58:28.156497Z",
     "start_time": "2022-12-14T01:58:28.018874Z"
    }
   },
   "outputs": [],
   "source": [
    "# set the length of the n-bit input string. \n",
    "num_qubit = 3\n",
    "\n",
    "# Create a quantum register\n",
    "q = QuantumRegister(size = num_qubit , name = 'q')\n",
    "q_extra = QuantumRegister(size = 1, name = 'q_extra')\n",
    "# Create a classical register\n",
    "c = ClassicalRegister(num_qubit,'c')\n",
    "\n",
    "# Create the quantum circuit of the  Deutsch-Jozsa Algorithm\n",
    "dj_circuit = QuantumCircuit(q, q_extra, c)\n",
    "\n",
    "# Apply H-gates\n",
    "for qubit in range(num_qubit):\n",
    "    dj_circuit.h(qubit)\n",
    "\n",
    "# Put qubit in state |->\n",
    "dj_circuit.x(num_qubit)\n",
    "dj_circuit.h(num_qubit)\n",
    "dj_circuit.barrier()\n",
    "\n",
    "########## FILL YOUR CODE IN HERE ##########\n",
    "\n",
    "# # Add oracle - balanced\n",
    "# dj_circuit.compose(balanced_oracle, inplace=True)\n",
    "# dj_circuit.barrier()\n",
    "\n",
    "########## ---------------------- ##########\n",
    "\n",
    "# Repeat H-gates\n",
    "for qubit in range(num_qubit):\n",
    "    dj_circuit.h(qubit)\n",
    "dj_circuit.barrier()\n",
    "\n",
    "# # Measure\n",
    "dj_circuit.measure(q, c)\n",
    "\n",
    "# Display circuit\n",
    "dj_circuit.draw(output = 'mpl')"
   ]
  },
  {
   "cell_type": "code",
   "execution_count": null,
   "id": "f20c8369",
   "metadata": {
    "ExecuteTime": {
     "end_time": "2022-12-14T01:58:28.202470Z",
     "start_time": "2022-12-14T01:58:28.157466Z"
    },
    "scrolled": false
   },
   "outputs": [],
   "source": [
    "# use local simulator\n",
    "aer_sim = Aer.get_backend('aer_simulator')\n",
    "qobj = assemble(dj_circuit, aer_sim)\n",
    "results = aer_sim.run(qobj).result()\n",
    "answer = results.get_counts()\n",
    "\n",
    "plot_histogram(answer)"
   ]
  },
  {
   "cell_type": "markdown",
   "id": "170f04c8",
   "metadata": {},
   "source": [
    "- Remember that $Pr(\\vert 0\\rangle^{\\otimes{n}})=1$ if $f(x)$ is constant and $Pr(\\vert 0\\rangle^{\\otimes{n}})=0$ if $f(x)$ is balanced.\n",
    "- We can see from the results above that we have a 0% chance of measuring $000$. This correctly predicts the function $f(x)$ is balanced."
   ]
  },
  {
   "cell_type": "code",
   "execution_count": null,
   "id": "ecfd08ea",
   "metadata": {},
   "outputs": [],
   "source": []
  },
  {
   "cell_type": "markdown",
   "id": "ca41bbd9",
   "metadata": {},
   "source": [
    "### 2.5.3 Generalized circuit code of Deutsch-Jozsa Algorithm\n",
    "- Here is a generalized code function that creates Deutsch-Jozsa oracles and turns them into quantum gates.\n",
    "- It takes input as the type of the oracle, (either 'balanced' or 'constant') and n, the size of the input register."
   ]
  },
  {
   "cell_type": "code",
   "execution_count": null,
   "id": "5c8f8005",
   "metadata": {
    "ExecuteTime": {
     "end_time": "2022-12-14T01:58:28.217577Z",
     "start_time": "2022-12-14T01:58:28.203475Z"
    }
   },
   "outputs": [],
   "source": [
    "def dj_oracle(case, n):\n",
    "    # We need to make a QuantumCircuit object to return\n",
    "    # This circuit has n+1 qubits: the size of the input,\n",
    "    # plus one output qubit\n",
    "    oracle_qc = QuantumCircuit(n+1)\n",
    "    \n",
    "    # First, let's deal with the case in which oracle is balanced\n",
    "    if case == \"balanced\":\n",
    "        # First generate a random number that tells us which CNOTs to\n",
    "        # wrap in X-gates:\n",
    "        b = np.random.randint(1,2**n)\n",
    "        # Next, format 'b' as a binary string of length 'n', padded with zeros:\n",
    "        b_str = format(b, '0'+str(n)+'b')\n",
    "        # Next, we place the first X-gates. Each digit in our binary string \n",
    "        # corresponds to a qubit, if the digit is 0, we do nothing, if it's 1\n",
    "        # we apply an X-gate to that qubit:\n",
    "        for qubit in range(len(b_str)):\n",
    "            if b_str[qubit] == '1':\n",
    "                oracle_qc.x(qubit)\n",
    "        # Do the controlled-NOT gates for each qubit, using the output qubit \n",
    "        # as the target:\n",
    "        for qubit in range(n):\n",
    "            oracle_qc.cx(qubit, n)\n",
    "        # Next, place the final X-gates\n",
    "        for qubit in range(len(b_str)):\n",
    "            if b_str[qubit] == '1':\n",
    "                oracle_qc.x(qubit)\n",
    "\n",
    "    # Case in which oracle is constant\n",
    "    if case == \"constant\":\n",
    "        # First decide what the fixed output of the oracle will be\n",
    "        # (either always 0 or always 1)\n",
    "        output = np.random.randint(2)\n",
    "        if output == 1:\n",
    "            oracle_qc.x(n)\n",
    "    \n",
    "    oracle_gate = oracle_qc.to_gate()\n",
    "    oracle_gate.name = \"Oracle\" # To show when we display the circuit\n",
    "    return oracle_gate"
   ]
  },
  {
   "cell_type": "code",
   "execution_count": null,
   "id": "9ef74460",
   "metadata": {
    "ExecuteTime": {
     "end_time": "2022-12-14T01:58:28.232468Z",
     "start_time": "2022-12-14T01:58:28.218558Z"
    }
   },
   "outputs": [],
   "source": [
    "def dj_algorithm(oracle, n):\n",
    "    dj_circuit = QuantumCircuit(n+1, n)\n",
    "    # Set up the output qubit:\n",
    "    dj_circuit.x(n)\n",
    "    dj_circuit.h(n)\n",
    "    # And set up the input register:\n",
    "    for qubit in range(n):\n",
    "        dj_circuit.h(qubit)\n",
    "    # Let's append the oracle gate to our circuit:\n",
    "    dj_circuit.append(oracle, range(n+1))\n",
    "    # Finally, perform the H-gates again and measure:\n",
    "    for qubit in range(n):\n",
    "        dj_circuit.h(qubit)\n",
    "    \n",
    "    for i in range(n):\n",
    "        dj_circuit.measure(i, i)\n",
    "    \n",
    "    return dj_circuit"
   ]
  },
  {
   "cell_type": "code",
   "execution_count": null,
   "id": "5f17d3ce",
   "metadata": {
    "ExecuteTime": {
     "end_time": "2022-12-14T01:58:28.339677Z",
     "start_time": "2022-12-14T01:58:28.233517Z"
    }
   },
   "outputs": [],
   "source": [
    "n = 4\n",
    "oracle_gate = dj_oracle('balanced', n)\n",
    "dj_circuit = dj_algorithm(oracle_gate, n)\n",
    "dj_circuit.draw(output = 'mpl')"
   ]
  },
  {
   "cell_type": "code",
   "execution_count": null,
   "id": "4ec222a2",
   "metadata": {
    "ExecuteTime": {
     "end_time": "2022-12-14T01:58:28.401772Z",
     "start_time": "2022-12-14T01:58:28.340706Z"
    },
    "scrolled": true
   },
   "outputs": [],
   "source": [
    "transpiled_dj_circuit = transpile(dj_circuit, aer_sim)\n",
    "qobj = assemble(transpiled_dj_circuit)\n",
    "results = aer_sim.run(qobj).result()\n",
    "answer = results.get_counts()\n",
    "plot_histogram(answer)"
   ]
  },
  {
   "cell_type": "markdown",
   "id": "0ac791d9",
   "metadata": {},
   "source": [
    "- Remember that $Pr(\\vert 0\\rangle^{\\otimes{n}})=1$ if $f(x)$ is constant and $Pr(\\vert 0\\rangle^{\\otimes{n}})=0$ if $f(x)$ is balanced.\n",
    "- So, we decide and conclude that the function $f(x)$ is balanced."
   ]
  },
  {
   "cell_type": "code",
   "execution_count": null,
   "id": "ef370a4c",
   "metadata": {},
   "outputs": [],
   "source": []
  },
  {
   "cell_type": "code",
   "execution_count": null,
   "id": "d1b617bf",
   "metadata": {},
   "outputs": [],
   "source": []
  },
  {
   "cell_type": "markdown",
   "id": "1d7318ef",
   "metadata": {},
   "source": [
    "### 2.5.4 Experiment with Real Devices"
   ]
  },
  {
   "cell_type": "code",
   "execution_count": null,
   "id": "c15c3ae1",
   "metadata": {
    "ExecuteTime": {
     "end_time": "2022-12-14T01:58:45.787386Z",
     "start_time": "2022-12-14T01:58:28.403095Z"
    }
   },
   "outputs": [],
   "source": [
    "# Load our saved IBMQ accounts and get the least busy backend device with greater than or equal to (n+1) qubits\n",
    "IBMQ.load_account()\n",
    "provider = IBMQ.get_provider(hub='ibm-q')\n",
    "backend = least_busy(provider.backends(filters=lambda x: x.configuration().n_qubits >= (n+1) and\n",
    "                                   not x.configuration().simulator and x.status().operational==True))\n",
    "print(\"least busy backend: \", backend)"
   ]
  },
  {
   "cell_type": "code",
   "execution_count": null,
   "id": "d152b90e",
   "metadata": {
    "ExecuteTime": {
     "end_time": "2022-12-14T01:59:01.336231Z",
     "start_time": "2022-12-14T01:58:45.788385Z"
    }
   },
   "outputs": [],
   "source": [
    "# Run our circuit on the least busy backend. Monitor the execution of the job in the queue\n",
    "from qiskit.tools.monitor import job_monitor\n",
    "\n",
    "transpiled_dj_circuit = transpile(dj_circuit, backend, optimization_level=3)\n",
    "job = backend.run(transpiled_dj_circuit)\n",
    "job_monitor(job, interval=2)"
   ]
  },
  {
   "cell_type": "code",
   "execution_count": null,
   "id": "e6aac98b",
   "metadata": {
    "ExecuteTime": {
     "end_time": "2022-12-14T01:59:02.607602Z",
     "start_time": "2022-12-14T01:59:01.337213Z"
    }
   },
   "outputs": [],
   "source": [
    "# Get the results of the computation\n",
    "results = job.result()\n",
    "answer = results.get_counts()\n",
    "\n",
    "plot_histogram(answer)"
   ]
  },
  {
   "cell_type": "markdown",
   "id": "7d647ce8",
   "metadata": {},
   "source": [
    "- Since $Pr(\\vert 0\\rangle^{\\otimes{n}})$ does not have the highest probability, we conclude that the function $f(x)$ is balanced."
   ]
  },
  {
   "cell_type": "code",
   "execution_count": null,
   "id": "1f22eeb5",
   "metadata": {},
   "outputs": [],
   "source": []
  }
 ],
 "metadata": {
  "kernelspec": {
   "display_name": "Python 3 (ipykernel)",
   "language": "python",
   "name": "python3"
  },
  "language_info": {
   "codemirror_mode": {
    "name": "ipython",
    "version": 3
   },
   "file_extension": ".py",
   "mimetype": "text/x-python",
   "name": "python",
   "nbconvert_exporter": "python",
   "pygments_lexer": "ipython3",
   "version": "3.9.12"
  },
  "toc": {
   "base_numbering": "0",
   "nav_menu": {},
   "number_sections": false,
   "sideBar": true,
   "skip_h1_title": false,
   "title_cell": "Table of Contents",
   "title_sidebar": "Contents",
   "toc_cell": true,
   "toc_position": {
    "height": "calc(100% - 180px)",
    "left": "10px",
    "top": "150px",
    "width": "277px"
   },
   "toc_section_display": true,
   "toc_window_display": true
  },
  "varInspector": {
   "cols": {
    "lenName": 16,
    "lenType": 16,
    "lenVar": 40
   },
   "kernels_config": {
    "python": {
     "delete_cmd_postfix": "",
     "delete_cmd_prefix": "del ",
     "library": "var_list.py",
     "varRefreshCmd": "print(var_dic_list())"
    },
    "r": {
     "delete_cmd_postfix": ") ",
     "delete_cmd_prefix": "rm(",
     "library": "var_list.r",
     "varRefreshCmd": "cat(var_dic_list()) "
    }
   },
   "types_to_exclude": [
    "module",
    "function",
    "builtin_function_or_method",
    "instance",
    "_Feature"
   ],
   "window_display": false
  }
 },
 "nbformat": 4,
 "nbformat_minor": 5
}
